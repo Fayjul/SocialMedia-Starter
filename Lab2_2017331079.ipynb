{
  "nbformat": 4,
  "nbformat_minor": 0,
  "metadata": {
    "colab": {
      "name": "Lab2_2017331079.ipynb",
      "provenance": [],
      "authorship_tag": "ABX9TyO0iS4MEqUxi84jvdd61eUw",
      "include_colab_link": true
    },
    "kernelspec": {
      "name": "python3",
      "display_name": "Python 3"
    },
    "language_info": {
      "name": "python"
    }
  },
  "cells": [
    {
      "cell_type": "markdown",
      "metadata": {
        "id": "view-in-github",
        "colab_type": "text"
      },
      "source": [
        "<a href=\"https://colab.research.google.com/github/Fayjul/SocialMedia-Starter/blob/master/Lab2_2017331079.ipynb\" target=\"_parent\"><img src=\"https://colab.research.google.com/assets/colab-badge.svg\" alt=\"Open In Colab\"/></a>"
      ]
    },
    {
      "cell_type": "markdown",
      "source": [
        "# Task 1\n"
      ],
      "metadata": {
        "id": "2poVZHrUiP4o"
      }
    },
    {
      "cell_type": "code",
      "execution_count": null,
      "metadata": {
        "id": "V7vzqOsBiH4r"
      },
      "outputs": [],
      "source": [
        "import matplotlib.pyplot as plt\n",
        "import pandas as pd\n",
        "import numpy as np\n",
        "from sklearn.preprocessing import StandardScaler\n",
        "from sklearn.linear_model import LinearRegression\n",
        "from sklearn import linear_model"
      ]
    },
    {
      "cell_type": "code",
      "source": [
        "house = pd.DataFrame({'rooms':[2,2,3,3,3,4,4,5],\n",
        "                      'size':[800,1000,1200,1400,1500,1800,2000,2500], \n",
        "                      'price':[2000,3000,4000,4200,4500,5000,5500,6500]\n",
        "                      })"
      ],
      "metadata": {
        "id": "ghBs1EEWibpO"
      },
      "execution_count": null,
      "outputs": []
    },
    {
      "cell_type": "code",
      "source": [
        "house"
      ],
      "metadata": {
        "colab": {
          "base_uri": "https://localhost:8080/",
          "height": 300
        },
        "id": "MC_W65hcil8l",
        "outputId": "a9c80332-5622-44e9-ff95-fba244d4affa"
      },
      "execution_count": null,
      "outputs": [
        {
          "output_type": "execute_result",
          "data": {
            "text/plain": [
              "   rooms  size  price\n",
              "0      2   800   2000\n",
              "1      2  1000   3000\n",
              "2      3  1200   4000\n",
              "3      3  1400   4200\n",
              "4      3  1500   4500\n",
              "5      4  1800   5000\n",
              "6      4  2000   5500\n",
              "7      5  2500   6500"
            ],
            "text/html": [
              "\n",
              "  <div id=\"df-98326985-f568-4d30-9ba4-a2563ad3f60a\">\n",
              "    <div class=\"colab-df-container\">\n",
              "      <div>\n",
              "<style scoped>\n",
              "    .dataframe tbody tr th:only-of-type {\n",
              "        vertical-align: middle;\n",
              "    }\n",
              "\n",
              "    .dataframe tbody tr th {\n",
              "        vertical-align: top;\n",
              "    }\n",
              "\n",
              "    .dataframe thead th {\n",
              "        text-align: right;\n",
              "    }\n",
              "</style>\n",
              "<table border=\"1\" class=\"dataframe\">\n",
              "  <thead>\n",
              "    <tr style=\"text-align: right;\">\n",
              "      <th></th>\n",
              "      <th>rooms</th>\n",
              "      <th>size</th>\n",
              "      <th>price</th>\n",
              "    </tr>\n",
              "  </thead>\n",
              "  <tbody>\n",
              "    <tr>\n",
              "      <th>0</th>\n",
              "      <td>2</td>\n",
              "      <td>800</td>\n",
              "      <td>2000</td>\n",
              "    </tr>\n",
              "    <tr>\n",
              "      <th>1</th>\n",
              "      <td>2</td>\n",
              "      <td>1000</td>\n",
              "      <td>3000</td>\n",
              "    </tr>\n",
              "    <tr>\n",
              "      <th>2</th>\n",
              "      <td>3</td>\n",
              "      <td>1200</td>\n",
              "      <td>4000</td>\n",
              "    </tr>\n",
              "    <tr>\n",
              "      <th>3</th>\n",
              "      <td>3</td>\n",
              "      <td>1400</td>\n",
              "      <td>4200</td>\n",
              "    </tr>\n",
              "    <tr>\n",
              "      <th>4</th>\n",
              "      <td>3</td>\n",
              "      <td>1500</td>\n",
              "      <td>4500</td>\n",
              "    </tr>\n",
              "    <tr>\n",
              "      <th>5</th>\n",
              "      <td>4</td>\n",
              "      <td>1800</td>\n",
              "      <td>5000</td>\n",
              "    </tr>\n",
              "    <tr>\n",
              "      <th>6</th>\n",
              "      <td>4</td>\n",
              "      <td>2000</td>\n",
              "      <td>5500</td>\n",
              "    </tr>\n",
              "    <tr>\n",
              "      <th>7</th>\n",
              "      <td>5</td>\n",
              "      <td>2500</td>\n",
              "      <td>6500</td>\n",
              "    </tr>\n",
              "  </tbody>\n",
              "</table>\n",
              "</div>\n",
              "      <button class=\"colab-df-convert\" onclick=\"convertToInteractive('df-98326985-f568-4d30-9ba4-a2563ad3f60a')\"\n",
              "              title=\"Convert this dataframe to an interactive table.\"\n",
              "              style=\"display:none;\">\n",
              "        \n",
              "  <svg xmlns=\"http://www.w3.org/2000/svg\" height=\"24px\"viewBox=\"0 0 24 24\"\n",
              "       width=\"24px\">\n",
              "    <path d=\"M0 0h24v24H0V0z\" fill=\"none\"/>\n",
              "    <path d=\"M18.56 5.44l.94 2.06.94-2.06 2.06-.94-2.06-.94-.94-2.06-.94 2.06-2.06.94zm-11 1L8.5 8.5l.94-2.06 2.06-.94-2.06-.94L8.5 2.5l-.94 2.06-2.06.94zm10 10l.94 2.06.94-2.06 2.06-.94-2.06-.94-.94-2.06-.94 2.06-2.06.94z\"/><path d=\"M17.41 7.96l-1.37-1.37c-.4-.4-.92-.59-1.43-.59-.52 0-1.04.2-1.43.59L10.3 9.45l-7.72 7.72c-.78.78-.78 2.05 0 2.83L4 21.41c.39.39.9.59 1.41.59.51 0 1.02-.2 1.41-.59l7.78-7.78 2.81-2.81c.8-.78.8-2.07 0-2.86zM5.41 20L4 18.59l7.72-7.72 1.47 1.35L5.41 20z\"/>\n",
              "  </svg>\n",
              "      </button>\n",
              "      \n",
              "  <style>\n",
              "    .colab-df-container {\n",
              "      display:flex;\n",
              "      flex-wrap:wrap;\n",
              "      gap: 12px;\n",
              "    }\n",
              "\n",
              "    .colab-df-convert {\n",
              "      background-color: #E8F0FE;\n",
              "      border: none;\n",
              "      border-radius: 50%;\n",
              "      cursor: pointer;\n",
              "      display: none;\n",
              "      fill: #1967D2;\n",
              "      height: 32px;\n",
              "      padding: 0 0 0 0;\n",
              "      width: 32px;\n",
              "    }\n",
              "\n",
              "    .colab-df-convert:hover {\n",
              "      background-color: #E2EBFA;\n",
              "      box-shadow: 0px 1px 2px rgba(60, 64, 67, 0.3), 0px 1px 3px 1px rgba(60, 64, 67, 0.15);\n",
              "      fill: #174EA6;\n",
              "    }\n",
              "\n",
              "    [theme=dark] .colab-df-convert {\n",
              "      background-color: #3B4455;\n",
              "      fill: #D2E3FC;\n",
              "    }\n",
              "\n",
              "    [theme=dark] .colab-df-convert:hover {\n",
              "      background-color: #434B5C;\n",
              "      box-shadow: 0px 1px 3px 1px rgba(0, 0, 0, 0.15);\n",
              "      filter: drop-shadow(0px 1px 2px rgba(0, 0, 0, 0.3));\n",
              "      fill: #FFFFFF;\n",
              "    }\n",
              "  </style>\n",
              "\n",
              "      <script>\n",
              "        const buttonEl =\n",
              "          document.querySelector('#df-98326985-f568-4d30-9ba4-a2563ad3f60a button.colab-df-convert');\n",
              "        buttonEl.style.display =\n",
              "          google.colab.kernel.accessAllowed ? 'block' : 'none';\n",
              "\n",
              "        async function convertToInteractive(key) {\n",
              "          const element = document.querySelector('#df-98326985-f568-4d30-9ba4-a2563ad3f60a');\n",
              "          const dataTable =\n",
              "            await google.colab.kernel.invokeFunction('convertToInteractive',\n",
              "                                                     [key], {});\n",
              "          if (!dataTable) return;\n",
              "\n",
              "          const docLinkHtml = 'Like what you see? Visit the ' +\n",
              "            '<a target=\"_blank\" href=https://colab.research.google.com/notebooks/data_table.ipynb>data table notebook</a>'\n",
              "            + ' to learn more about interactive tables.';\n",
              "          element.innerHTML = '';\n",
              "          dataTable['output_type'] = 'display_data';\n",
              "          await google.colab.output.renderOutput(dataTable, element);\n",
              "          const docLink = document.createElement('div');\n",
              "          docLink.innerHTML = docLinkHtml;\n",
              "          element.appendChild(docLink);\n",
              "        }\n",
              "      </script>\n",
              "    </div>\n",
              "  </div>\n",
              "  "
            ]
          },
          "metadata": {},
          "execution_count": 3
        }
      ]
    },
    {
      "cell_type": "code",
      "source": [
        "rooms = house['rooms']\n",
        "size = house['size']\n",
        "price = house['price']"
      ],
      "metadata": {
        "id": "jkXbPBc4ioLy"
      },
      "execution_count": null,
      "outputs": []
    },
    {
      "cell_type": "code",
      "source": [
        "#plt.subplot(2,1,1)\n",
        "plt.plot(rooms,size, 'd', color = 'blue')\n",
        "\n"
      ],
      "metadata": {
        "colab": {
          "base_uri": "https://localhost:8080/",
          "height": 284
        },
        "id": "zZzfKd2DioP6",
        "outputId": "3371be5d-c1f6-4d88-9280-f7f55c8eeda8"
      },
      "execution_count": null,
      "outputs": [
        {
          "output_type": "execute_result",
          "data": {
            "text/plain": [
              "[<matplotlib.lines.Line2D at 0x7fe03fd71410>]"
            ]
          },
          "metadata": {},
          "execution_count": 5
        },
        {
          "output_type": "display_data",
          "data": {
            "text/plain": [
              "<Figure size 432x288 with 1 Axes>"
            ],
            "image/png": "[encoded data removed]"
          },
          "metadata": {
            "needs_background": "light"
          }
        }
      ]
    },
    {
      "cell_type": "code",
      "source": [
        "#plt.subplot(2,1,2)\n",
        "plt.plot(rooms,price,'o',color = 'red')"
      ],
      "metadata": {
        "colab": {
          "base_uri": "https://localhost:8080/",
          "height": 284
        },
        "id": "BXta5LmGioR6",
        "outputId": "d60f8770-a3a7-415f-9e29-65d682416def"
      },
      "execution_count": null,
      "outputs": [
        {
          "output_type": "execute_result",
          "data": {
            "text/plain": [
              "[<matplotlib.lines.Line2D at 0x7fe02f65a910>]"
            ]
          },
          "metadata": {},
          "execution_count": 6
        },
        {
          "output_type": "display_data",
          "data": {
            "text/plain": [
              "<Figure size 432x288 with 1 Axes>"
            ],
            "image/png": "[encoded data removed]"
          },
          "metadata": {
            "needs_background": "light"
          }
        }
      ]
    },
    {
      "cell_type": "markdown",
      "source": [
        "# Task 2\n",
        "\n",
        "The formula of the price predicting of an aparment will be like\n",
        "\n",
        "price = w0+w1x1+w2x2\n",
        "\n",
        "where \n",
        "\n",
        "\n",
        "*   w0 = initial bias \n",
        "*   w1 = weight of per rooms\n",
        "*   x1 = number of rooms in apartmant\n",
        "*   w2 = weight of pre area\n",
        "*   x2 = size of apartment\n",
        "\n",
        "By using python linear Regression we\n",
        "\n",
        "\n",
        "*   w0 = 450.70422535\n",
        "*   w1 = 264.08450704\n",
        "*   w2 = 1.98591549\n",
        "\n",
        "\n",
        "\n",
        "\n",
        "     "
      ],
      "metadata": {
        "id": "FYyc_a7ajISJ"
      }
    },
    {
      "cell_type": "markdown",
      "source": [
        "# Task 3"
      ],
      "metadata": {
        "id": "afZl9Hijjy0n"
      }
    },
    {
      "cell_type": "code",
      "source": [
        "def gradient_descent(X,Y,epoch,learning_rate):\n",
        "    cost = []\n",
        "    iter= []\n",
        "    # Number of rows\n",
        "    N = X.shape[0]\n",
        "    df[\"Area\"] = df[\"Area\"]/max(df[\"Area\"])\n",
        "    X_new = df[[\"Rooms\",\"Area\"]]\n",
        "\n",
        "    theta = np.ones((N,1),dtype=object)\n",
        "    X_new['Theta'] = theta\n",
        "    # Number of features\n",
        "    M = X_new.shape[1]\n",
        "    \n",
        "    new_col = [\"Theta\",\"Rooms\",\"Area\"]\n",
        "    X_new = X_new.reindex(columns = new_col)\n",
        "    # Initializing beta\n",
        "    beta = np.ones((M))\n",
        "    \n",
        "    for i in range(0,epoch):\n",
        "        iter.append(i+1)\n",
        "        Y_hat = np.dot(X_new,beta.T)\n",
        "        e = Y[\"Price\"] - Y_hat.T\n",
        "        E = np.sum((e * e.T)/(2*N))\n",
        "        cost.append(E)    \n",
        "        d_beta = (-1/N)*np.dot(e.T,X_new)\n",
        "        beta = beta - (learning_rate * d_beta)\n",
        "\n",
        "    \n",
        "    predicted_price = np.dot(X_new,beta.T)\n",
        "    plt.plot(iter,cost)\n",
        "\n",
        "    return E,beta,predicted_price                                                                    \n",
        "        \n",
        "    "
      ],
      "metadata": {
        "id": "eXZhZwnhioT8"
      },
      "execution_count": null,
      "outputs": []
    },
    {
      "cell_type": "code",
      "source": [
        "df = pd.DataFrame({'Rooms':[2,2,3,3,3,4,4,5],\n",
        "                      'Area':[800,1000,1200,1400,1500,1800,2000,2500], \n",
        "                      'Price':[2000,3000,4000,4200,4500,5000,5500,6500]\n",
        "                      })"
      ],
      "metadata": {
        "id": "SKa8_T1fioWi"
      },
      "execution_count": null,
      "outputs": []
    },
    {
      "cell_type": "code",
      "source": [
        "X = df[[\"Rooms\",\"Area\"]]\n",
        "y = df[[\"Price\"]]\n",
        "m = len(y)\n",
        "scaling_factor = max(df[\"Area\"])"
      ],
      "metadata": {
        "id": "n0oW2LcnkmcM"
      },
      "execution_count": null,
      "outputs": []
    },
    {
      "cell_type": "markdown",
      "source": [
        "# Task 4"
      ],
      "metadata": {
        "id": "SooKOMl4k_Z4"
      }
    },
    {
      "cell_type": "code",
      "source": [
        "loss,beta,predicted_price = gradient_descent(X,y,200,0.001)\n",
        "print(\"Total loss = \"+ str(loss))\n",
        "print(\"Co-efficients = \",beta)\n"
      ],
      "metadata": {
        "colab": {
          "base_uri": "https://localhost:8080/",
          "height": 313
        },
        "id": "EEVvOfr6ioaH",
        "outputId": "4820933d-73de-4c14-d828-9d0d25a558b8"
      },
      "execution_count": null,
      "outputs": [
        {
          "output_type": "stream",
          "name": "stdout",
          "text": [
            "Total loss = 122775.46613443161\n",
            "Co-efficients =  [310.65057113885314 1103.903615608853 212.04892301593316]\n"
          ]
        },
        {
          "output_type": "display_data",
          "data": {
            "text/plain": [
              "<Figure size 432x288 with 1 Axes>"
            ],
            "image/png": "[encoded data removed]"
          },
          "metadata": {
            "needs_background": "light"
          }
        }
      ]
    },
    {
      "cell_type": "markdown",
      "source": [
        "# Task 5"
      ],
      "metadata": {
        "id": "QBirH3yelHSK"
      }
    },
    {
      "cell_type": "code",
      "source": [
        "plt.scatter(df[\"Rooms\"],predicted_price,c=\"red\")\n",
        "plt.xlabel(\"Rooms\")\n",
        "plt.ylabel(\"Price\")\n"
      ],
      "metadata": {
        "colab": {
          "base_uri": "https://localhost:8080/",
          "height": 297
        },
        "id": "A2pIF4sylHqz",
        "outputId": "52d18859-fde8-448c-fea2-7473c2118361"
      },
      "execution_count": null,
      "outputs": [
        {
          "output_type": "execute_result",
          "data": {
            "text/plain": [
              "Text(0, 0.5, 'Price')"
            ]
          },
          "metadata": {},
          "execution_count": 16
        },
        {
          "output_type": "display_data",
          "data": {
            "text/plain": [
              "<Figure size 432x288 with 1 Axes>"
            ],
            "image/png": "[encoded data removed]"
          },
          "metadata": {
            "needs_background": "light"
          }
        }
      ]
    },
    {
      "cell_type": "code",
      "source": [
        "plt.scatter(df[\"Area\"],predicted_price,c=\"red\")\n",
        "plt.xlabel(\"Area\")\n",
        "plt.ylabel(\"Price\")\n",
        "plt.show()"
      ],
      "metadata": {
        "colab": {
          "base_uri": "https://localhost:8080/",
          "height": 279
        },
        "id": "0qr0TyQ8lIL9",
        "outputId": "da0335e7-dde4-44fb-f68a-332200365ab1"
      },
      "execution_count": null,
      "outputs": [
        {
          "output_type": "display_data",
          "data": {
            "text/plain": [
              "<Figure size 432x288 with 1 Axes>"
            ],
            "image/png": "[encoded data removed]"
          },
          "metadata": {
            "needs_background": "light"
          }
        }
      ]
    },
    {
      "cell_type": "markdown",
      "source": [
        "# Task 6"
      ],
      "metadata": {
        "id": "XWZcCmQelH8a"
      }
    },
    {
      "cell_type": "code",
      "source": [
        "reg = LinearRegression()"
      ],
      "metadata": {
        "id": "49lPpwPrlFiB"
      },
      "execution_count": null,
      "outputs": []
    },
    {
      "cell_type": "code",
      "source": [
        "reg.fit(house[['rooms','size']], house[['price']])"
      ],
      "metadata": {
        "colab": {
          "base_uri": "https://localhost:8080/"
        },
        "id": "tKfRzE-FlI28",
        "outputId": "124561f7-836f-420f-f5fe-283293516c9d"
      },
      "execution_count": null,
      "outputs": [
        {
          "output_type": "execute_result",
          "data": {
            "text/plain": [
              "LinearRegression()"
            ]
          },
          "metadata": {},
          "execution_count": 19
        }
      ]
    },
    {
      "cell_type": "code",
      "source": [
        "print('Intercept: ', reg.intercept_)\n",
        "print('Coefficients: ', reg.coef_)"
      ],
      "metadata": {
        "colab": {
          "base_uri": "https://localhost:8080/"
        },
        "id": "j2p40LlslJPc",
        "outputId": "bcda8085-b2ab-411f-ff74-8e08d463519e"
      },
      "execution_count": null,
      "outputs": [
        {
          "output_type": "stream",
          "name": "stdout",
          "text": [
            "Intercept:  [450.70422535]\n",
            "Coefficients:  [[264.08450704   1.98591549]]\n"
          ]
        }
      ]
    },
    {
      "cell_type": "code",
      "source": [
        "import statsmodels.api as sm"
      ],
      "metadata": {
        "colab": {
          "base_uri": "https://localhost:8080/"
        },
        "id": "UhelUbwTlJSU",
        "outputId": "4cf38fb3-88b4-4727-a86b-e3e4b4427f78"
      },
      "execution_count": null,
      "outputs": [
        {
          "output_type": "stream",
          "name": "stderr",
          "text": [
            "/usr/local/lib/python3.7/dist-packages/statsmodels/tools/_testing.py:19: FutureWarning: pandas.util.testing is deprecated. Use the functions in the public API at pandas.testing instead.\n",
            "  import pandas.util.testing as tm\n"
          ]
        }
      ]
    },
    {
      "cell_type": "code",
      "source": [
        "# using statsmodels\n",
        "X_new = sm.add_constant(X) \n",
        " \n",
        "model = sm.OLS(y, X_new).fit()\n",
        "predictions = model.predict(X_new) \n",
        " \n",
        "py_model = model.summary()\n",
        "print(py_model)"
      ],
      "metadata": {
        "colab": {
          "base_uri": "https://localhost:8080/"
        },
        "id": "isD25yNvlJVb",
        "outputId": "4e85b176-90d1-43ba-9d9c-40122d2c4ecf"
      },
      "execution_count": null,
      "outputs": [
        {
          "output_type": "stream",
          "name": "stdout",
          "text": [
            "                            OLS Regression Results                            \n",
            "==============================================================================\n",
            "Dep. Variable:                  Price   R-squared:                       0.954\n",
            "Model:                            OLS   Adj. R-squared:                  0.936\n",
            "Method:                 Least Squares   F-statistic:                     52.17\n",
            "Date:                Sat, 19 Mar 2022   Prob (F-statistic):           0.000447\n",
            "Time:                        05:20:46   Log-Likelihood:                -56.477\n",
            "No. Observations:                   8   AIC:                             119.0\n",
            "Df Residuals:                       5   BIC:                             119.2\n",
            "Df Model:                           2                                         \n",
            "Covariance Type:            nonrobust                                         \n",
            "==============================================================================\n",
            "                 coef    std err          t      P>|t|      [0.025      0.975]\n",
            "------------------------------------------------------------------------------\n",
            "const        450.7042    491.269      0.917      0.401    -812.142    1713.551\n",
            "Rooms        264.0845    623.565      0.424      0.690   -1338.841    1867.010\n",
            "Area           1.9859      1.158      1.715      0.147      -0.991       4.962\n",
            "==============================================================================\n",
            "Omnibus:                        1.576   Durbin-Watson:                   1.156\n",
            "Prob(Omnibus):                  0.455   Jarque-Bera (JB):                0.613\n",
            "Skew:                          -0.655   Prob(JB):                        0.736\n",
            "Kurtosis:                       2.651   Cond. No.                     9.19e+03\n",
            "==============================================================================\n",
            "\n",
            "Warnings:\n",
            "[1] Standard Errors assume that the covariance matrix of the errors is correctly specified.\n",
            "[2] The condition number is large, 9.19e+03. This might indicate that there are\n",
            "strong multicollinearity or other numerical problems.\n"
          ]
        },
        {
          "output_type": "stream",
          "name": "stderr",
          "text": [
            "/usr/local/lib/python3.7/dist-packages/statsmodels/tsa/tsatools.py:117: FutureWarning: In a future version of pandas all arguments of concat except for the argument 'objs' will be keyword-only\n",
            "  x = pd.concat(x[::order], 1)\n",
            "/usr/local/lib/python3.7/dist-packages/scipy/stats/stats.py:1535: UserWarning: kurtosistest only valid for n>=20 ... continuing anyway, n=8\n",
            "  \"anyway, n=%i\" % int(n))\n"
          ]
        }
      ]
    },
    {
      "cell_type": "markdown",
      "source": [
        "# Task 7"
      ],
      "metadata": {
        "id": "ipqn1LxjvOM-"
      }
    },
    {
      "cell_type": "code",
      "source": [
        "test_data = pd.DataFrame({'rooms':[3,2,3,3,3,4,4,5],\n",
        "                      'size':[1800,1000,1500,1450,1500,1800,2000,2500],\n",
        "                      })"
      ],
      "metadata": {
        "id": "E7DwpP2JvY5j"
      },
      "execution_count": null,
      "outputs": []
    },
    {
      "cell_type": "code",
      "source": [
        "predicted_price_py = reg.predict(test_data)"
      ],
      "metadata": {
        "id": "zAeQ-Uu7vZNk"
      },
      "execution_count": null,
      "outputs": []
    },
    {
      "cell_type": "code",
      "source": [
        "predicted_price_py"
      ],
      "metadata": {
        "colab": {
          "base_uri": "https://localhost:8080/"
        },
        "id": "ne3wjcDNpNWD",
        "outputId": "388cf7ef-b741-462b-81c5-a0a0d3baa344"
      },
      "execution_count": null,
      "outputs": [
        {
          "output_type": "execute_result",
          "data": {
            "text/plain": [
              "array([[4817.6056338 ],\n",
              "       [2964.78873239],\n",
              "       [4221.83098592],\n",
              "       [4122.53521127],\n",
              "       [4221.83098592],\n",
              "       [5081.69014085],\n",
              "       [5478.87323944],\n",
              "       [6735.91549296]])"
            ]
          },
          "metadata": {},
          "execution_count": 41
        }
      ]
    },
    {
      "cell_type": "markdown",
      "source": [
        "# Task 8"
      ],
      "metadata": {
        "id": "1W1oKsO5woMB"
      }
    },
    {
      "cell_type": "code",
      "source": [
        "fig = plt.figure(figsize = (20, 8))\n",
        "plt.subplot(1,2,1)\n",
        "plt.scatter(df[\"Rooms\"],predicted_price_py,color=\"blue\")\n",
        "plt.xlabel(\"Rooms\")\n",
        "plt.ylabel(\"Price\")"
      ],
      "metadata": {
        "colab": {
          "base_uri": "https://localhost:8080/",
          "height": 515
        },
        "id": "ZYWAGeHrwcFX",
        "outputId": "384a70a4-d72f-4324-b1fa-439fac7c2a7e"
      },
      "execution_count": null,
      "outputs": [
        {
          "output_type": "execute_result",
          "data": {
            "text/plain": [
              "Text(0, 0.5, 'Price')"
            ]
          },
          "metadata": {},
          "execution_count": 42
        },
        {
          "output_type": "display_data",
          "data": {
            "text/plain": [
              "<Figure size 1440x576 with 1 Axes>"
            ],
            "image/png": "[encoded data removed]"
          },
          "metadata": {
            "needs_background": "light"
          }
        }
      ]
    }
  ]
}